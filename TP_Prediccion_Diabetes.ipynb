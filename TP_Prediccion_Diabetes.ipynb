{
 "cells": [
  {
   "cell_type": "markdown",
   "id": "916d6374",
   "metadata": {},
   "source": [
    "# 🔬 Predicción de Diabetes con Machine Learning\n",
    "Trabajo Práctico Integrador\n",
    "\n",
    "En este notebook se realiza un análisis de datos, entrenamiento de modelos supervisados y creación de una app gráfica para la predicción de diabetes."
   ]
  },
  {
   "cell_type": "markdown",
   "id": "768b50b5",
   "metadata": {},
   "source": [
    "## 1. Carga y exploración de datos"
   ]
  },
  {
   "cell_type": "code",
   "execution_count": null,
   "id": "9cc715ef",
   "metadata": {},
   "outputs": [],
   "source": [
    "\n",
    "import pandas as pd\n",
    "import seaborn as sns\n",
    "import matplotlib.pyplot as plt\n",
    "\n",
    "# Cargar el dataset\n",
    "df = pd.read_csv(\"/content/diabetes.csv\")\n",
    "df.head()\n"
   ]
  },
  {
   "cell_type": "code",
   "execution_count": null,
   "id": "b1521f2d",
   "metadata": {},
   "outputs": [],
   "source": [
    "\n",
    "# Análisis de tipos de datos y valores faltantes\n",
    "print(df.info())\n",
    "print(df.describe())\n",
    "\n",
    "# Detección de ceros sospechosos\n",
    "cols_con_ceros = ['Glucose', 'BloodPressure', 'SkinThickness', 'Insulin', 'BMI']\n",
    "print(df[cols_con_ceros].isin([0]).sum())\n"
   ]
  },
  {
   "cell_type": "code",
   "execution_count": null,
   "id": "b44b9426",
   "metadata": {},
   "outputs": [],
   "source": [
    "\n",
    "# Visualizaciones básicas\n",
    "plt.figure(figsize=(10, 8))\n",
    "sns.heatmap(df.corr(), annot=True, cmap='coolwarm')\n",
    "plt.title(\"Matriz de Correlación\")\n",
    "plt.show()\n",
    "\n",
    "sns.countplot(data=df, x=\"Outcome\")\n",
    "plt.title(\"Distribución de Pacientes con/sin Diabetes\")\n",
    "plt.show()\n"
   ]
  },
  {
   "cell_type": "markdown",
   "id": "3e015abd",
   "metadata": {},
   "source": [
    "## 2. Preprocesamiento de datos"
   ]
  },
  {
   "cell_type": "code",
   "execution_count": null,
   "id": "1f8bc606",
   "metadata": {},
   "outputs": [],
   "source": [
    "\n",
    "# Reemplazo de ceros por la mediana\n",
    "for col in ['Glucose', 'BloodPressure', 'SkinThickness', 'Insulin', 'BMI']:\n",
    "    mediana = df[col].median()\n",
    "    df[col] = df[col].replace(0, mediana)\n",
    "\n",
    "print(df[['Glucose', 'BloodPressure', 'SkinThickness', 'Insulin', 'BMI']].isin([0]).sum())\n"
   ]
  },
  {
   "cell_type": "code",
   "execution_count": null,
   "id": "d6fbd7bb",
   "metadata": {},
   "outputs": [],
   "source": [
    "\n",
    "# Normalización\n",
    "from sklearn.preprocessing import StandardScaler\n",
    "\n",
    "X = df.drop(\"Outcome\", axis=1)\n",
    "y = df[\"Outcome\"]\n",
    "\n",
    "scaler = StandardScaler()\n",
    "X_normalizado = scaler.fit_transform(X)\n"
   ]
  },
  {
   "cell_type": "code",
   "execution_count": null,
   "id": "6a9db61f",
   "metadata": {},
   "outputs": [],
   "source": [
    "\n",
    "# División en entrenamiento y prueba\n",
    "from sklearn.model_selection import train_test_split\n",
    "\n",
    "X_train, X_test, y_train, y_test = train_test_split(X_normalizado, y, test_size=0.2, random_state=42)\n",
    "print(f\"X_train: {X_train.shape}, X_test: {X_test.shape}\")\n"
   ]
  },
  {
   "cell_type": "markdown",
   "id": "3f433987",
   "metadata": {},
   "source": [
    "## 3. Entrenamiento de Modelos"
   ]
  },
  {
   "cell_type": "code",
   "execution_count": null,
   "id": "094a64f8",
   "metadata": {},
   "outputs": [],
   "source": [
    "\n",
    "from sklearn.linear_model import LogisticRegression\n",
    "from sklearn.tree import DecisionTreeClassifier\n",
    "from sklearn.ensemble import RandomForestClassifier\n",
    "from sklearn.metrics import accuracy_score\n",
    "\n",
    "# Regresión Logística\n",
    "modelo_log = LogisticRegression()\n",
    "modelo_log.fit(X_train, y_train)\n",
    "y_pred_log = modelo_log.predict(X_test)\n",
    "accuracy_log = accuracy_score(y_test, y_pred_log)\n",
    "print(f\"Precisión de Regresión Logística: {accuracy_log:.2f}\")\n",
    "\n",
    "# Árbol de Decisión\n",
    "modelo_tree = DecisionTreeClassifier(random_state=42)\n",
    "modelo_tree.fit(X_train, y_train)\n",
    "y_pred_tree = modelo_tree.predict(X_test)\n",
    "accuracy_tree = accuracy_score(y_test, y_pred_tree)\n",
    "print(f\"Precisión del Árbol de Decisión: {accuracy_tree:.2f}\")\n",
    "\n",
    "# Random Forest\n",
    "modelo_rf = RandomForestClassifier(random_state=42)\n",
    "modelo_rf.fit(X_train, y_train)\n",
    "y_pred_rf = modelo_rf.predict(X_test)\n",
    "accuracy_rf = accuracy_score(y_test, y_pred_rf)\n",
    "print(f\"Precisión del Bosque Aleatorio: {accuracy_rf:.2f}\")\n"
   ]
  },
  {
   "cell_type": "markdown",
   "id": "3d9ca7a1",
   "metadata": {},
   "source": [
    "## 4. Evaluación y comparación"
   ]
  },
  {
   "cell_type": "code",
   "execution_count": null,
   "id": "ba60fe4d",
   "metadata": {},
   "outputs": [],
   "source": [
    "\n",
    "from sklearn.metrics import confusion_matrix, classification_report\n",
    "\n",
    "modelos = [\n",
    "    (\"Regresión Logística\", modelo_log, y_pred_log),\n",
    "    (\"Árbol de Decisión\", modelo_tree, y_pred_tree),\n",
    "    (\"Random Forest\", modelo_rf, y_pred_rf),\n",
    "]\n",
    "\n",
    "for nombre, modelo, y_pred in modelos:\n",
    "    print(f\"\\nModelo: {nombre}\")\n",
    "    print(f\"Score: {modelo.score(X_test, y_test):.2f}\")\n",
    "    print(f\"Accuracy: {accuracy_score(y_test, y_pred):.2f}\")\n",
    "    print(\"Matriz de Confusión:\")\n",
    "    print(confusion_matrix(y_test, y_pred))\n",
    "    print(\"Reporte de Clasificación:\")\n",
    "    print(classification_report(y_test, y_pred))\n"
   ]
  },
  {
   "cell_type": "markdown",
   "id": "86112ceb",
   "metadata": {},
   "source": [
    "## 5. Exportación del modelo"
   ]
  },
  {
   "cell_type": "code",
   "execution_count": null,
   "id": "c5e9858f",
   "metadata": {},
   "outputs": [],
   "source": [
    "\n",
    "import joblib\n",
    "\n",
    "# Exportar el mejor modelo (Random Forest)\n",
    "joblib.dump(modelo_rf, \"modelo_diabetes.pkl\")\n",
    "\n",
    "# Descargar el archivo desde Colab\n",
    "from google.colab import files\n",
    "files.download(\"modelo_diabetes.pkl\")\n"
   ]
  }
 ],
 "metadata": {},
 "nbformat": 4,
 "nbformat_minor": 5
}